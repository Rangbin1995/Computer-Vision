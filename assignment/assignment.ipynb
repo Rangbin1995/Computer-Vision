{
 "cells": [
  {
   "cell_type": "code",
   "execution_count": null,
   "metadata": {},
   "outputs": [],
   "source": [
    "import cv2\n",
    "import numpy as np\n",
    "from matplotlib import pyplot as plt"
   ]
  },
  {
   "cell_type": "code",
   "execution_count": null,
   "metadata": {},
   "outputs": [],
   "source": [
    "def rgb_to_gray(rgb):\n",
    "    # use numpy function np.dot() to calculate the dot product of two arrays\n",
    "    return np.dot(rgb[...,:3], [0.299, 0.587, 0.114])\n",
    "\n",
    "def most_freq_pixel_of_neighbors(image, x, y, half_of_window_size):\n",
    "    # given an column index and row index and the window size, we can find the current window\n",
    "    current_window = image[x-half_of_window_size:x+half_of_window_size+1,y-half_of_window_size:y+half_of_window_size+1]\n",
    "    # use histogram calculation to get the most freqent pixel value\n",
    "    histogram = cv2.calcHist([current_window],[0], None,[256],[0,256])\n",
    "    max_of_histogram = np.max(histogram)\n",
    "    # returning the index of the most frequent pixel, ie. the value\n",
    "    return np.argwhere(histogram == max_of_histogram)[0][0]\n",
    "\n",
    "def set_pixel_to_most_freq_pixels(image, window_size):\n",
    "    # cut the window size to half\n",
    "    half_of_window_size = window_size // 2\n",
    "    # add the border \n",
    "    img_reflect_101 = cv2.copyMakeBorder(image,half_of_window_size,half_of_window_size,half_of_window_size,half_of_window_size,cv2.BORDER_REFLECT_101)\n",
    "    # use a nest-loop to set every pixel to a new value\n",
    "    for x in range(image.shape[0]):\n",
    "        for y in range(image.shape[1]):\n",
    "            image.itemset((x,y),most_freq_pixel_of_neighbors(img_reflect_101,x+half_of_window_size,y+half_of_window_size,half_of_window_size))\n",
    "            \n",
    "def get_color_indensities(B, J, x, y, half_of_window_size):\n",
    "    # current value of pixel of coordinates (x,y)\n",
    "    current_pixel_value = J.item(x,y)\n",
    "    # create an empty list with three empty lists inside to store rgb values\n",
    "    rgb_values = [[] for _ in range(3)]\n",
    "    for i in range(x-half_of_window_size,x+half_of_window_size+1):\n",
    "        # check the border\n",
    "        if i >= 0 and i < J.shape[0]:\n",
    "            for j in range(y-half_of_window_size,y+half_of_window_size+1):\n",
    "                # check the border and check the same pixel value\n",
    "                if j >= 0 and j < J.shape[1] and J.item(i,j) == current_pixel_value:\n",
    "                    rgb_values[0].append(B.item(i,j,0))\n",
    "                    rgb_values[1].append(B.item(i,j,1))\n",
    "                    rgb_values[2].append(B.item(i,j,2))\n",
    "    # calculate the average intensities of those pixels in each band\n",
    "    return (sum(rgb_values[0])/len(rgb_values[0]),sum(rgb_values[1])/len(rgb_values[1]),sum(rgb_values[2])/len(rgb_values[2]))\n",
    "\n",
    "def generate_painting(B,J,window_size):\n",
    "    # cut the window size to half\n",
    "    half_of_window_size = window_size//2\n",
    "    # Allocate these variables, so the program \n",
    "    row_size, col_size = J.shape\n",
    "    # use a nest-loop the set the pixel values\n",
    "    for x in range(0,row_size):\n",
    "        for y in range(0,col_size):\n",
    "            B[x,y,:] = get_color_indensities(B,J,x,y,half_of_window_size)"
   ]
  },
  {
   "cell_type": "markdown",
   "metadata": {},
   "source": [
    "# Variables Need to Be Changed"
   ]
  },
  {
   "cell_type": "code",
   "execution_count": null,
   "metadata": {},
   "outputs": [],
   "source": [
    "file_name = 'dog.jpg'\n",
    "image_name = file_name.split('.')[0]"
   ]
  },
  {
   "cell_type": "markdown",
   "metadata": {},
   "source": [
    "# Task 1"
   ]
  },
  {
   "cell_type": "code",
   "execution_count": null,
   "metadata": {},
   "outputs": [],
   "source": [
    "# read image and convert BGR to RGB\n",
    "A = cv2.imread('dog.jpg', 1)\n",
    "A = cv2.cvtColor(A, cv2.COLOR_BGR2RGB)\n",
    "# apply the transform function to transform RGB to grayscale\n",
    "I = rgb_to_gray(A)\n",
    "# set the dtype of image I to be uint8\n",
    "I = I.astype(np.uint8)\n",
    "# write to task_1.jpg\n",
    "cv2.imwrite(f'{image_name}_task_1.jpg',I)"
   ]
  },
  {
   "cell_type": "markdown",
   "metadata": {},
   "source": [
    "# Task 2"
   ]
  },
  {
   "cell_type": "code",
   "execution_count": null,
   "metadata": {},
   "outputs": [],
   "source": [
    "# make a copy of I\n",
    "J = np.copy(I)\n",
    "# put the three window sizes into a list and write them to images formatted\n",
    "window_size_list = [3, 20, 50]\n",
    "# loop these three window sizes\n",
    "for window_size in window_size_list:\n",
    "    set_pixel_to_most_freq_pixels(J,window_size)\n",
    "    # write to formatted names\n",
    "    cv2.imwrite(f'{image_name}_task_2_{window_size}.jpg', J)"
   ]
  },
  {
   "cell_type": "markdown",
   "metadata": {},
   "source": [
    "# Task 3"
   ]
  },
  {
   "cell_type": "code",
   "execution_count": null,
   "metadata": {},
   "outputs": [],
   "source": [
    "# we will use the same window sizes as Task 2, and loop these three window sizes\n",
    "for window_size in window_size_list:\n",
    "    B = np.copy(A)\n",
    "    generate_painting(B,J,window_size)\n",
    "    # convert them to BGR\n",
    "    B = cv2.cvtColor(B, cv2.COLOR_RGB2BGR)\n",
    "    # write to formatted names \n",
    "    cv2.imwrite(f'{image_name}_task_3_{window_size}.jpg', B)"
   ]
  }
 ],
 "metadata": {
  "kernelspec": {
   "display_name": "Python 3",
   "language": "python",
   "name": "python3"
  },
  "language_info": {
   "codemirror_mode": {
    "name": "ipython",
    "version": 3
   },
   "file_extension": ".py",
   "mimetype": "text/x-python",
   "name": "python",
   "nbconvert_exporter": "python",
   "pygments_lexer": "ipython3",
   "version": "3.7.4"
  }
 },
 "nbformat": 4,
 "nbformat_minor": 2
}
